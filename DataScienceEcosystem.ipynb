{
 "cells": [
  {
   "cell_type": "markdown",
   "id": "5e250432-e41f-4e3e-b270-3f63af84515c",
   "metadata": {
    "tags": []
   },
   "source": [
    "# Data Science Tools and Ecosystem"
   ]
  },
  {
   "cell_type": "markdown",
   "id": "f06a59e2-d5a1-4a13-b53d-6a1fe679986c",
   "metadata": {},
   "source": [
    "In this notebook, Data Science Tools and Ecosystem are summarized."
   ]
  },
  {
   "cell_type": "markdown",
   "id": "2c8a2193-fa86-467d-931c-9b68d9520c0f",
   "metadata": {},
   "source": [
    "Some of the popular languages that Data Scientists use are:\n",
    "1. R\n",
    "2. Python\n",
    "3. Scala\n",
    "4. Java"
   ]
  },
  {
   "cell_type": "markdown",
   "id": "c79e2ecc-6865-4c4b-bf19-cf246005cedf",
   "metadata": {},
   "source": [
    "Some of the commonly used libraries used by Data Scientists include:\n",
    "1. PyTorch\n",
    "2. SciKit-Learn\n",
    "3. Keras\n",
    "4. TensorFlow"
   ]
  },
  {
   "cell_type": "markdown",
   "id": "30be03c5-0a30-4e55-a7c7-3d4013e62587",
   "metadata": {},
   "source": [
    "| Data Science Tools |\n",
    "| --- |\n",
    "| Jupyter |\n",
    "| Apache Zeppelin |\n",
    "| RStudio |\n",
    "| Spyder |\n",
    "| KNIME |"
   ]
  },
  {
   "cell_type": "markdown",
   "id": "af9773b4-7788-4024-b035-4ca20d86ed30",
   "metadata": {},
   "source": [
    "### Below are a few examples of evaluating arithmetic expressions in Python."
   ]
  },
  {
   "cell_type": "code",
   "execution_count": 6,
   "id": "5792ad64-56f9-493e-8b7f-7bee03a3c6ba",
   "metadata": {
    "tags": []
   },
   "outputs": [
    {
     "data": {
      "text/plain": [
       "17"
      ]
     },
     "execution_count": 6,
     "metadata": {},
     "output_type": "execute_result"
    }
   ],
   "source": [
    "# This is a simple arithmetic expression to multiply then add integers.\n",
    "(3*4)+5"
   ]
  },
  {
   "cell_type": "code",
   "execution_count": 7,
   "id": "b13d7abb-c3e0-48f9-8e22-1cc2fce2958b",
   "metadata": {
    "tags": []
   },
   "outputs": [
    {
     "data": {
      "text/plain": [
       "3.3333333333333335"
      ]
     },
     "execution_count": 7,
     "metadata": {},
     "output_type": "execute_result"
    }
   ],
   "source": [
    "# This will convert 200 minutes to hours by dividing by 60.\n",
    "200/60"
   ]
  },
  {
   "cell_type": "markdown",
   "id": "bfc8d966-84b8-4f6a-bcb3-510942ddb069",
   "metadata": {},
   "source": [
    "__Objectives:__\n",
    " - List popular languages for Data Science\n",
    " - List libraries commonly used by Data Scientists\n",
    " - List Open-Source Data Science development environments"
   ]
  },
  {
   "cell_type": "markdown",
   "id": "a1e3d59a-5f8c-47e5-b29b-e5d1bfff8237",
   "metadata": {},
   "source": [
    "## Author\n",
    "Rahul Sitaram"
   ]
  },
  {
   "cell_type": "code",
   "execution_count": null,
   "id": "3075c3be-e19b-4dd1-ab36-d93850618d62",
   "metadata": {},
   "outputs": [],
   "source": []
  }
 ],
 "metadata": {
  "kernelspec": {
   "display_name": "Python",
   "language": "python",
   "name": "conda-env-python-py"
  },
  "language_info": {
   "codemirror_mode": {
    "name": "ipython",
    "version": 3
   },
   "file_extension": ".py",
   "mimetype": "text/x-python",
   "name": "python",
   "nbconvert_exporter": "python",
   "pygments_lexer": "ipython3",
   "version": "3.7.12"
  }
 },
 "nbformat": 4,
 "nbformat_minor": 5
}
